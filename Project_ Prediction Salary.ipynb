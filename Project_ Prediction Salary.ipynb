{
 "cells": [
  {
   "cell_type": "markdown",
   "metadata": {},
   "source": []
  },
  {
   "cell_type": "markdown",
   "metadata": {},
   "source": [
    " # Salary_Prediction\n",
    " #   1- Import python packages for DS.\n",
    " \n",
    " #   2- Data acquisition.\n",
    " \n",
    " #   3- Data collectionn & integration\n",
    " \n",
    " #   4- Data preprocessing\n",
    " \n",
    " #   5- Data visualisation\n",
    " \n",
    " #   6- Model training\n",
    " \n",
    " #   7-Model evaluation\n",
    "    "
   ]
  },
  {
   "cell_type": "code",
   "execution_count": 39,
   "metadata": {},
   "outputs": [],
   "source": [
    "#importing libraries\n",
    "import numpy as np  #  a mathematical library ,linear algebra\n",
    "import pandas as pd # data processing, (e.g. pd.read_csv)  , create dataframes\n",
    "import matplotlib.pyplot as plt  # used for (visualization of data).\n",
    "import seaborn as sns            #  a visualization library based on matplotlib\n",
    "\n",
    "\n"
   ]
  },
  {
   "cell_type": "code",
   "execution_count": 40,
   "metadata": {},
   "outputs": [
    {
     "data": {
      "text/html": [
       "<div>\n",
       "<style scoped>\n",
       "    .dataframe tbody tr th:only-of-type {\n",
       "        vertical-align: middle;\n",
       "    }\n",
       "\n",
       "    .dataframe tbody tr th {\n",
       "        vertical-align: top;\n",
       "    }\n",
       "\n",
       "    .dataframe thead th {\n",
       "        text-align: right;\n",
       "    }\n",
       "</style>\n",
       "<table border=\"1\" class=\"dataframe\">\n",
       "  <thead>\n",
       "    <tr style=\"text-align: right;\">\n",
       "      <th></th>\n",
       "      <th>Age</th>\n",
       "      <th>Gender</th>\n",
       "      <th>Education Level</th>\n",
       "      <th>Job Title</th>\n",
       "      <th>Years of Experience</th>\n",
       "      <th>Salary</th>\n",
       "    </tr>\n",
       "  </thead>\n",
       "  <tbody>\n",
       "    <tr>\n",
       "      <th>0</th>\n",
       "      <td>32.0</td>\n",
       "      <td>Male</td>\n",
       "      <td>Bachelor's</td>\n",
       "      <td>Software Engineer</td>\n",
       "      <td>5.0</td>\n",
       "      <td>90000.0</td>\n",
       "    </tr>\n",
       "    <tr>\n",
       "      <th>1</th>\n",
       "      <td>28.0</td>\n",
       "      <td>Female</td>\n",
       "      <td>Master's</td>\n",
       "      <td>Data Analyst</td>\n",
       "      <td>3.0</td>\n",
       "      <td>65000.0</td>\n",
       "    </tr>\n",
       "    <tr>\n",
       "      <th>2</th>\n",
       "      <td>45.0</td>\n",
       "      <td>Male</td>\n",
       "      <td>PhD</td>\n",
       "      <td>Senior Manager</td>\n",
       "      <td>15.0</td>\n",
       "      <td>150000.0</td>\n",
       "    </tr>\n",
       "    <tr>\n",
       "      <th>3</th>\n",
       "      <td>36.0</td>\n",
       "      <td>Female</td>\n",
       "      <td>Bachelor's</td>\n",
       "      <td>Sales Associate</td>\n",
       "      <td>7.0</td>\n",
       "      <td>60000.0</td>\n",
       "    </tr>\n",
       "    <tr>\n",
       "      <th>4</th>\n",
       "      <td>52.0</td>\n",
       "      <td>Male</td>\n",
       "      <td>Master's</td>\n",
       "      <td>Director</td>\n",
       "      <td>20.0</td>\n",
       "      <td>200000.0</td>\n",
       "    </tr>\n",
       "  </tbody>\n",
       "</table>\n",
       "</div>"
      ],
      "text/plain": [
       "    Age  Gender Education Level          Job Title  Years of Experience  \\\n",
       "0  32.0    Male      Bachelor's  Software Engineer                  5.0   \n",
       "1  28.0  Female        Master's       Data Analyst                  3.0   \n",
       "2  45.0    Male             PhD     Senior Manager                 15.0   \n",
       "3  36.0  Female      Bachelor's    Sales Associate                  7.0   \n",
       "4  52.0    Male        Master's           Director                 20.0   \n",
       "\n",
       "     Salary  \n",
       "0   90000.0  \n",
       "1   65000.0  \n",
       "2  150000.0  \n",
       "3   60000.0  \n",
       "4  200000.0  "
      ]
     },
     "execution_count": 40,
     "metadata": {},
     "output_type": "execute_result"
    }
   ],
   "source": [
    "#Read dataset\n",
    "df=pd.read_csv(\"C:\\\\Users\\\\mohamed gallow\\\\Desktop\\\\Salary Data.csv\")\n",
    "df.head()"
   ]
  },
  {
   "cell_type": "code",
   "execution_count": 41,
   "metadata": {},
   "outputs": [
    {
     "name": "stdout",
     "output_type": "stream",
     "text": [
      "df size :  2250\n",
      "------\n",
      "<class 'pandas.core.frame.DataFrame'>\n",
      "RangeIndex: 375 entries, 0 to 374\n",
      "Data columns (total 6 columns):\n",
      " #   Column               Non-Null Count  Dtype  \n",
      "---  ------               --------------  -----  \n",
      " 0   Age                  373 non-null    float64\n",
      " 1   Gender               373 non-null    object \n",
      " 2   Education Level      373 non-null    object \n",
      " 3   Job Title            373 non-null    object \n",
      " 4   Years of Experience  373 non-null    float64\n",
      " 5   Salary               373 non-null    float64\n",
      "dtypes: float64(3), object(3)\n",
      "memory usage: 17.7+ KB\n"
     ]
    },
    {
     "data": {
      "text/plain": [
       "Age                    2\n",
       "Gender                 2\n",
       "Education Level        2\n",
       "Job Title              2\n",
       "Years of Experience    2\n",
       "Salary                 2\n",
       "dtype: int64"
      ]
     },
     "execution_count": 41,
     "metadata": {},
     "output_type": "execute_result"
    }
   ],
   "source": [
    "print('df size : ' ,df.size)\n",
    "print('------')\n",
    "df.info()\n",
    "df.isnull().sum()"
   ]
  },
  {
   "cell_type": "code",
   "execution_count": 42,
   "metadata": {},
   "outputs": [
    {
     "data": {
      "text/plain": [
       "Age                    0\n",
       "Gender                 0\n",
       "Education Level        0\n",
       "Job Title              0\n",
       "Years of Experience    0\n",
       "Salary                 0\n",
       "dtype: int64"
      ]
     },
     "execution_count": 42,
     "metadata": {},
     "output_type": "execute_result"
    }
   ],
   "source": [
    "#drop of null\n",
    "df = df.dropna()\n",
    "df.isnull().sum()"
   ]
  },
  {
   "cell_type": "code",
   "execution_count": 43,
   "metadata": {},
   "outputs": [
    {
     "name": "stdout",
     "output_type": "stream",
     "text": [
      "      Age  Gender  Education Level                      Job Title  \\\n",
      "0    32.0       0                1              Software Engineer   \n",
      "1    28.0       1                2                   Data Analyst   \n",
      "2    45.0       0                3                 Senior Manager   \n",
      "3    36.0       1                1                Sales Associate   \n",
      "4    52.0       0                2                       Director   \n",
      "..    ...     ...              ...                            ...   \n",
      "370  35.0       1                1       Senior Marketing Analyst   \n",
      "371  43.0       0                2         Director of Operations   \n",
      "372  29.0       1                1         Junior Project Manager   \n",
      "373  34.0       0                1  Senior Operations Coordinator   \n",
      "374  44.0       1                3        Senior Business Analyst   \n",
      "\n",
      "     Years of Experience    Salary  \n",
      "0                    5.0   90000.0  \n",
      "1                    3.0   65000.0  \n",
      "2                   15.0  150000.0  \n",
      "3                    7.0   60000.0  \n",
      "4                   20.0  200000.0  \n",
      "..                   ...       ...  \n",
      "370                  8.0   85000.0  \n",
      "371                 19.0  170000.0  \n",
      "372                  2.0   40000.0  \n",
      "373                  7.0   90000.0  \n",
      "374                 15.0  150000.0  \n",
      "\n",
      "[373 rows x 6 columns]\n"
     ]
    }
   ],
   "source": [
    "#عشان اتعامل بسهوله هغير ف القيم\n",
    "\n",
    "df['Gender'] = df['Gender'].replace({'Male': 0, 'Female': 1})\n",
    "df['Education Level'] = df['Education Level'].replace({\"Bachelor's\": 1, \"Master's\": 2, \"PhD\":3})\n",
    "print(df)"
   ]
  },
  {
   "cell_type": "code",
   "execution_count": 44,
   "metadata": {},
   "outputs": [
    {
     "data": {
      "text/plain": [
       "array(['Software Engineer', 'Data Analyst', 'Senior Manager',\n",
       "       'Sales Associate', 'Director', 'Marketing Analyst',\n",
       "       'Product Manager', 'Sales Manager', 'Marketing Coordinator',\n",
       "       'Senior Scientist', 'Software Developer', 'HR Manager',\n",
       "       'Financial Analyst', 'Project Manager', 'Customer Service Rep',\n",
       "       'Operations Manager', 'Marketing Manager', 'Senior Engineer',\n",
       "       'Data Entry Clerk', 'Sales Director', 'Business Analyst',\n",
       "       'VP of Operations', 'IT Support', 'Recruiter', 'Financial Manager',\n",
       "       'Social Media Specialist', 'Software Manager', 'Junior Developer',\n",
       "       'Senior Consultant', 'Product Designer', 'CEO', 'Accountant',\n",
       "       'Data Scientist', 'Marketing Specialist', 'Technical Writer',\n",
       "       'HR Generalist', 'Project Engineer', 'Customer Success Rep',\n",
       "       'Sales Executive', 'UX Designer', 'Operations Director',\n",
       "       'Network Engineer', 'Administrative Assistant',\n",
       "       'Strategy Consultant', 'Copywriter', 'Account Manager',\n",
       "       'Director of Marketing', 'Help Desk Analyst',\n",
       "       'Customer Service Manager', 'Business Intelligence Analyst',\n",
       "       'Event Coordinator', 'VP of Finance', 'Graphic Designer',\n",
       "       'UX Researcher', 'Social Media Manager', 'Director of Operations',\n",
       "       'Senior Data Scientist', 'Junior Accountant',\n",
       "       'Digital Marketing Manager', 'IT Manager',\n",
       "       'Customer Service Representative', 'Business Development Manager',\n",
       "       'Senior Financial Analyst', 'Web Developer', 'Research Director',\n",
       "       'Technical Support Specialist', 'Creative Director',\n",
       "       'Senior Software Engineer', 'Human Resources Director',\n",
       "       'Content Marketing Manager', 'Technical Recruiter',\n",
       "       'Sales Representative', 'Chief Technology Officer',\n",
       "       'Junior Designer', 'Financial Advisor', 'Junior Account Manager',\n",
       "       'Senior Project Manager', 'Principal Scientist',\n",
       "       'Supply Chain Manager', 'Senior Marketing Manager',\n",
       "       'Training Specialist', 'Research Scientist',\n",
       "       'Junior Software Developer', 'Public Relations Manager',\n",
       "       'Operations Analyst', 'Product Marketing Manager',\n",
       "       'Senior HR Manager', 'Junior Web Developer',\n",
       "       'Senior Project Coordinator', 'Chief Data Officer',\n",
       "       'Digital Content Producer', 'IT Support Specialist',\n",
       "       'Senior Marketing Analyst', 'Customer Success Manager',\n",
       "       'Senior Graphic Designer', 'Software Project Manager',\n",
       "       'Supply Chain Analyst', 'Senior Business Analyst',\n",
       "       'Junior Marketing Analyst', 'Office Manager', 'Principal Engineer',\n",
       "       'Junior HR Generalist', 'Senior Product Manager',\n",
       "       'Junior Operations Analyst', 'Senior HR Generalist',\n",
       "       'Sales Operations Manager', 'Senior Software Developer',\n",
       "       'Junior Web Designer', 'Senior Training Specialist',\n",
       "       'Senior Research Scientist', 'Junior Sales Representative',\n",
       "       'Junior Marketing Manager', 'Junior Data Analyst',\n",
       "       'Senior Product Marketing Manager', 'Junior Business Analyst',\n",
       "       'Senior Sales Manager', 'Junior Marketing Specialist',\n",
       "       'Junior Project Manager', 'Senior Accountant', 'Director of Sales',\n",
       "       'Junior Recruiter', 'Senior Business Development Manager',\n",
       "       'Senior Product Designer', 'Junior Customer Support Specialist',\n",
       "       'Senior IT Support Specialist', 'Junior Financial Analyst',\n",
       "       'Senior Operations Manager', 'Director of Human Resources',\n",
       "       'Junior Software Engineer', 'Senior Sales Representative',\n",
       "       'Director of Product Management', 'Junior Copywriter',\n",
       "       'Senior Marketing Coordinator', 'Senior Human Resources Manager',\n",
       "       'Junior Business Development Associate', 'Senior Account Manager',\n",
       "       'Senior Researcher', 'Junior HR Coordinator',\n",
       "       'Director of Finance', 'Junior Marketing Coordinator',\n",
       "       'Junior Data Scientist', 'Senior Operations Analyst',\n",
       "       'Senior Human Resources Coordinator', 'Senior UX Designer',\n",
       "       'Junior Product Manager', 'Senior Marketing Specialist',\n",
       "       'Senior IT Project Manager', 'Senior Quality Assurance Analyst',\n",
       "       'Director of Sales and Marketing', 'Senior Account Executive',\n",
       "       'Director of Business Development', 'Junior Social Media Manager',\n",
       "       'Senior Human Resources Specialist', 'Senior Data Analyst',\n",
       "       'Director of Human Capital', 'Junior Advertising Coordinator',\n",
       "       'Junior UX Designer', 'Senior Marketing Director',\n",
       "       'Senior IT Consultant', 'Senior Financial Advisor',\n",
       "       'Junior Business Operations Analyst',\n",
       "       'Junior Social Media Specialist',\n",
       "       'Senior Product Development Manager', 'Junior Operations Manager',\n",
       "       'Senior Software Architect', 'Junior Research Scientist',\n",
       "       'Senior Financial Manager', 'Senior HR Specialist',\n",
       "       'Senior Data Engineer', 'Junior Operations Coordinator',\n",
       "       'Director of HR', 'Senior Operations Coordinator',\n",
       "       'Junior Financial Advisor', 'Director of Engineering'],\n",
       "      dtype=object)"
      ]
     },
     "execution_count": 44,
     "metadata": {},
     "output_type": "execute_result"
    }
   ],
   "source": [
    "df[\"Job Title\"].unique()"
   ]
  },
  {
   "cell_type": "code",
   "execution_count": 45,
   "metadata": {},
   "outputs": [
    {
     "data": {
      "text/html": [
       "<div>\n",
       "<style scoped>\n",
       "    .dataframe tbody tr th:only-of-type {\n",
       "        vertical-align: middle;\n",
       "    }\n",
       "\n",
       "    .dataframe tbody tr th {\n",
       "        vertical-align: top;\n",
       "    }\n",
       "\n",
       "    .dataframe thead th {\n",
       "        text-align: right;\n",
       "    }\n",
       "</style>\n",
       "<table border=\"1\" class=\"dataframe\">\n",
       "  <thead>\n",
       "    <tr style=\"text-align: right;\">\n",
       "      <th></th>\n",
       "      <th>Age</th>\n",
       "      <th>Gender</th>\n",
       "      <th>Education Level</th>\n",
       "      <th>Years of Experience</th>\n",
       "      <th>Salary</th>\n",
       "    </tr>\n",
       "  </thead>\n",
       "  <tbody>\n",
       "    <tr>\n",
       "      <th>0</th>\n",
       "      <td>32.0</td>\n",
       "      <td>0</td>\n",
       "      <td>1</td>\n",
       "      <td>5.0</td>\n",
       "      <td>90000.0</td>\n",
       "    </tr>\n",
       "    <tr>\n",
       "      <th>1</th>\n",
       "      <td>28.0</td>\n",
       "      <td>1</td>\n",
       "      <td>2</td>\n",
       "      <td>3.0</td>\n",
       "      <td>65000.0</td>\n",
       "    </tr>\n",
       "    <tr>\n",
       "      <th>2</th>\n",
       "      <td>45.0</td>\n",
       "      <td>0</td>\n",
       "      <td>3</td>\n",
       "      <td>15.0</td>\n",
       "      <td>150000.0</td>\n",
       "    </tr>\n",
       "    <tr>\n",
       "      <th>3</th>\n",
       "      <td>36.0</td>\n",
       "      <td>1</td>\n",
       "      <td>1</td>\n",
       "      <td>7.0</td>\n",
       "      <td>60000.0</td>\n",
       "    </tr>\n",
       "    <tr>\n",
       "      <th>4</th>\n",
       "      <td>52.0</td>\n",
       "      <td>0</td>\n",
       "      <td>2</td>\n",
       "      <td>20.0</td>\n",
       "      <td>200000.0</td>\n",
       "    </tr>\n",
       "    <tr>\n",
       "      <th>...</th>\n",
       "      <td>...</td>\n",
       "      <td>...</td>\n",
       "      <td>...</td>\n",
       "      <td>...</td>\n",
       "      <td>...</td>\n",
       "    </tr>\n",
       "    <tr>\n",
       "      <th>370</th>\n",
       "      <td>35.0</td>\n",
       "      <td>1</td>\n",
       "      <td>1</td>\n",
       "      <td>8.0</td>\n",
       "      <td>85000.0</td>\n",
       "    </tr>\n",
       "    <tr>\n",
       "      <th>371</th>\n",
       "      <td>43.0</td>\n",
       "      <td>0</td>\n",
       "      <td>2</td>\n",
       "      <td>19.0</td>\n",
       "      <td>170000.0</td>\n",
       "    </tr>\n",
       "    <tr>\n",
       "      <th>372</th>\n",
       "      <td>29.0</td>\n",
       "      <td>1</td>\n",
       "      <td>1</td>\n",
       "      <td>2.0</td>\n",
       "      <td>40000.0</td>\n",
       "    </tr>\n",
       "    <tr>\n",
       "      <th>373</th>\n",
       "      <td>34.0</td>\n",
       "      <td>0</td>\n",
       "      <td>1</td>\n",
       "      <td>7.0</td>\n",
       "      <td>90000.0</td>\n",
       "    </tr>\n",
       "    <tr>\n",
       "      <th>374</th>\n",
       "      <td>44.0</td>\n",
       "      <td>1</td>\n",
       "      <td>3</td>\n",
       "      <td>15.0</td>\n",
       "      <td>150000.0</td>\n",
       "    </tr>\n",
       "  </tbody>\n",
       "</table>\n",
       "<p>373 rows × 5 columns</p>\n",
       "</div>"
      ],
      "text/plain": [
       "      Age  Gender  Education Level  Years of Experience    Salary\n",
       "0    32.0       0                1                  5.0   90000.0\n",
       "1    28.0       1                2                  3.0   65000.0\n",
       "2    45.0       0                3                 15.0  150000.0\n",
       "3    36.0       1                1                  7.0   60000.0\n",
       "4    52.0       0                2                 20.0  200000.0\n",
       "..    ...     ...              ...                  ...       ...\n",
       "370  35.0       1                1                  8.0   85000.0\n",
       "371  43.0       0                2                 19.0  170000.0\n",
       "372  29.0       1                1                  2.0   40000.0\n",
       "373  34.0       0                1                  7.0   90000.0\n",
       "374  44.0       1                3                 15.0  150000.0\n",
       "\n",
       "[373 rows x 5 columns]"
      ]
     },
     "execution_count": 45,
     "metadata": {},
     "output_type": "execute_result"
    }
   ],
   "source": [
    "#لتسهيل وتحويل عمود job title\n",
    "\n",
    "\n",
    "df=df.drop(\"Job Title\",axis=1)  \n",
    "#df[\"Job Title\"].astype(\"str\")\n",
    "df"
   ]
  },
  {
   "cell_type": "code",
   "execution_count": null,
   "metadata": {},
   "outputs": [],
   "source": []
  },
  {
   "cell_type": "code",
   "execution_count": 46,
   "metadata": {},
   "outputs": [
    {
     "name": "stdout",
     "output_type": "stream",
     "text": [
      "<class 'pandas.core.frame.DataFrame'>\n",
      "Index: 373 entries, 0 to 374\n",
      "Data columns (total 5 columns):\n",
      " #   Column               Non-Null Count  Dtype  \n",
      "---  ------               --------------  -----  \n",
      " 0   Age                  373 non-null    float64\n",
      " 1   Gender               373 non-null    int64  \n",
      " 2   Education Level      373 non-null    int64  \n",
      " 3   Years of Experience  373 non-null    float64\n",
      " 4   Salary               373 non-null    float64\n",
      "dtypes: float64(3), int64(2)\n",
      "memory usage: 17.5 KB\n"
     ]
    },
    {
     "data": {
      "text/plain": [
       "Age                    0\n",
       "Gender                 0\n",
       "Education Level        0\n",
       "Years of Experience    0\n",
       "Salary                 0\n",
       "dtype: int64"
      ]
     },
     "execution_count": 46,
     "metadata": {},
     "output_type": "execute_result"
    }
   ],
   "source": [
    "#check the data(clean or..)\n",
    "df.info()\n",
    "df.isnull().sum()"
   ]
  },
  {
   "cell_type": "code",
   "execution_count": 47,
   "metadata": {},
   "outputs": [
    {
     "data": {
      "image/png": "[encoded data removed]",
      "text/plain": [
       "<Figure size 640x480 with 1 Axes>"
      ]
     },
     "metadata": {},
     "output_type": "display_data"
    }
   ],
   "source": [
    "\n",
    "# using matplotlip as plt\n",
    "\n",
    "grouped_df = df.groupby(\"Education Level\")\n",
    "\n",
    "\n",
    "data_count = grouped_df.size()\n",
    "\n",
    "# But details\n",
    "plt.bar(data_count.index, data_count)\n",
    "plt.xlabel(\"Education Level\")\n",
    "plt.ylabel(\" Data size\")\n",
    "plt.show()\n"
   ]
  },
  {
   "cell_type": "code",
   "execution_count": 48,
   "metadata": {},
   "outputs": [
    {
     "data": {
      "text/plain": [
       "<Axes: xlabel='Years of Experience', ylabel='Salary'>"
      ]
     },
     "execution_count": 48,
     "metadata": {},
     "output_type": "execute_result"
    },
    {
     "data": {
      "image/png": "[encoded data removed]",
      "text/plain": [
       "<Figure size 640x480 with 1 Axes>"
      ]
     },
     "metadata": {},
     "output_type": "display_data"
    }
   ],
   "source": [
    "#using seaborn as sns\n",
    "sns.lineplot(x = 'Years of Experience', y = 'Salary', data = df)"
   ]
  },
  {
   "cell_type": "code",
   "execution_count": 49,
   "metadata": {},
   "outputs": [
    {
     "data": {
      "text/plain": [
       "<Axes: xlabel='Education Level', ylabel='Salary'>"
      ]
     },
     "execution_count": 49,
     "metadata": {},
     "output_type": "execute_result"
    },
    {
     "data": {
      "image/png": "[encoded data removed]",
      "text/plain": [
       "<Figure size 640x480 with 1 Axes>"
      ]
     },
     "metadata": {},
     "output_type": "display_data"
    }
   ],
   "source": [
    "sns.lineplot(x = 'Education Level', y = 'Salary', data = df)"
   ]
  },
  {
   "cell_type": "code",
   "execution_count": 50,
   "metadata": {},
   "outputs": [
    {
     "data": {
      "text/plain": [
       "<Axes: xlabel='Gender', ylabel='Salary'>"
      ]
     },
     "execution_count": 50,
     "metadata": {},
     "output_type": "execute_result"
    },
    {
     "data": {
      "image/png": "[encoded data removed]",
      "text/plain": [
       "<Figure size 640x480 with 1 Axes>"
      ]
     },
     "metadata": {},
     "output_type": "display_data"
    }
   ],
   "source": [
    "\n",
    "sns.barplot(x = 'Gender', y = 'Salary', data = df)\n",
    "#-------\n",
    "\n",
    "\n",
    "#show (barplot && lineplot -- )"
   ]
  },
  {
   "cell_type": "code",
   "execution_count": 51,
   "metadata": {},
   "outputs": [
    {
     "name": "stdout",
     "output_type": "stream",
     "text": [
      "                       Salary  Years of Experience  Education Level       Age  \\\n",
      "Salary               1.000000             0.930338         0.670371  0.922335   \n",
      "Years of Experience  0.930338             1.000000         0.590863  0.979128   \n",
      "Education Level      0.670371             0.590863         1.000000  0.562693   \n",
      "Age                  0.922335             0.979128         0.562693  1.000000   \n",
      "Gender              -0.071106            -0.002884         0.044717  0.020324   \n",
      "\n",
      "                       Gender  \n",
      "Salary              -0.071106  \n",
      "Years of Experience -0.002884  \n",
      "Education Level      0.044717  \n",
      "Age                  0.020324  \n",
      "Gender               1.000000  \n"
     ]
    },
    {
     "data": {
      "text/plain": [
       "<Axes: >"
      ]
     },
     "execution_count": 51,
     "metadata": {},
     "output_type": "execute_result"
    },
    {
     "data": {
      "image/png": "[encoded data removed]",
      "text/plain": [
       "<Figure size 640x480 with 2 Axes>"
      ]
     },
     "metadata": {},
     "output_type": "display_data"
    }
   ],
   "source": [
    "#using seaborn as sns(heatmap)\n",
    "\n",
    "correlation_matrix =df[['Salary','Years of Experience','Education Level','Age','Gender']].corr()\n",
    "print(correlation_matrix )\n",
    "\n",
    "sns.heatmap (correlation_matrix ,annot=True)"
   ]
  },
  {
   "cell_type": "code",
   "execution_count": 52,
   "metadata": {},
   "outputs": [
    {
     "name": "stdout",
     "output_type": "stream",
     "text": [
      "----------train----------\n",
      "(335, 4)\n",
      "(335,)\n",
      "----------test-----------\n",
      "(38, 4)\n",
      "(38,)\n"
     ]
    }
   ],
   "source": [
    "# Train/Test method to (measure the accuracy) of  model.\n",
    "\n",
    "from sklearn.model_selection import train_test_split\n",
    "\n",
    "output=df[\"Salary\"]\n",
    "inputs=df.drop(\"Salary\",axis=1)\n",
    "\n",
    "x_train,x_test,y_train,y_test=train_test_split(inputs,output,test_size=.1,random_state=1)\n",
    "\n",
    "print('----------train----------')\n",
    "print(x_train.shape)\n",
    "print(y_train.shape)\n",
    "print('----------test-----------')\n",
    "print(x_test.shape)\n",
    "print(y_test.shape)\n",
    "\n"
   ]
  },
  {
   "cell_type": "code",
   "execution_count": null,
   "metadata": {},
   "outputs": [],
   "source": [
    "\n",
    "\n"
   ]
  },
  {
   "cell_type": "code",
   "execution_count": 53,
   "metadata": {},
   "outputs": [
    {
     "name": "stdout",
     "output_type": "stream",
     "text": [
      "[ 56296.3031823   35783.79918701 119551.63791421  66953.40224978\n",
      " 124341.18131532  44204.36437638 172749.33223114 181688.60855256\n",
      " 104205.91888021  44723.07550844  76290.09604552  50112.27187105\n",
      "  99436.55139324 127972.20310357  50112.27187105  47478.32051861\n",
      " 152634.24571017 102070.50274568 173766.5785811   53264.93435554\n",
      " 121047.04925894  47357.02686087 124199.71174343 161176.10455728\n",
      " 149481.58322568 181149.72150636  84313.24376057 175901.99471563\n",
      "  41570.41302394  70106.06473427 167858.67108644 163810.05590971\n",
      "  45800.87153277 167979.96474417  58532.83706041 164827.30225968\n",
      " 123101.71787302  49990.97821331]\n"
     ]
    }
   ],
   "source": [
    "from sklearn.linear_model import LinearRegression\n",
    "# object from (LinearRegression)\n",
    "model= LinearRegression()\n",
    "model.fit(x_train,y_train)   #fit(x_train[['Grade']],y_train)\n",
    "results=model.predict(x_test)\n",
    "\n",
    "print(results)"
   ]
  },
  {
   "cell_type": "code",
   "execution_count": 54,
   "metadata": {},
   "outputs": [
    {
     "name": "stdout",
     "output_type": "stream",
     "text": [
      "resultssize : 38\n",
      "R2_train : 0.8938053076177902\n"
     ]
    }
   ],
   "source": [
    "print('resultssize :' , results.size)  # = y_test.size\n",
    "\n",
    "tr=model.score(x_train,y_train)\n",
    "print('R2_train :', tr)"
   ]
  },
  {
   "cell_type": "code",
   "execution_count": 55,
   "metadata": {},
   "outputs": [
    {
     "name": "stdout",
     "output_type": "stream",
     "text": [
      "MSE : 147589999.60394862\n",
      "MAE : 8729.190390532996\n",
      "R2_test : 0.9469722235049293\n"
     ]
    }
   ],
   "source": [
    "#model Evaluation\n",
    "from sklearn.metrics import mean_squared_error,mean_absolute_error,r2_score\n",
    "print('MSE :',mean_squared_error(y_test,results))\n",
    "print('MAE :',mean_absolute_error(y_test,results))\n",
    "print('R2_test :',r2_score(y_test,results))"
   ]
  },
  {
   "cell_type": "code",
   "execution_count": 56,
   "metadata": {},
   "outputs": [
    {
     "name": "stdout",
     "output_type": "stream",
     "text": [
      "Requirement already satisfied: joblib in c:\\users\\mohamed gallow\\anaconda3\\lib\\site-packages (1.2.0)\n"
     ]
    }
   ],
   "source": [
    "#save model \n",
    "!pip install joblib\n",
    "import joblib as jb\n",
    "jb.dump(model,'C:/Users/mohamed gallow/Desktop/model.SAV')\n",
    "model=jb.load('C:/Users/mohamed gallow/Desktop/model.SAV')"
   ]
  },
  {
   "cell_type": "code",
   "execution_count": 57,
   "metadata": {},
   "outputs": [
    {
     "name": "stderr",
     "output_type": "stream",
     "text": [
      "C:\\Users\\mohamed gallow\\anaconda3\\Lib\\site-packages\\sklearn\\base.py:464: UserWarning: X does not have valid feature names, but LinearRegression was fitted with feature names\n",
      "  warnings.warn(\n"
     ]
    }
   ],
   "source": [
    "\n",
    "from tkinter import *\n",
    "root=Tk()\n",
    "root.geometry(\"1100x600\")\n",
    "root.title(\"Salary prediction\")\n",
    "\n",
    "\n",
    "\n",
    "\n",
    "def btn_click():\n",
    "    \n",
    "    lb_salary[\"text\"]=\"your salary is: \"+str(model.predict([[int(txt_age.get()),int(txt_gender.get()),int(txt_level.get()),int(txt_experience.get())]]))\n",
    "    lb_salary[\"bg\"]=\"blue\"\n",
    "    lb_salary[\"fg\"]=\"white\"\n",
    "    lb_salary[\"height\"]=2\n",
    "    btn[\"bg\"]=\"white\"\n",
    "    btn[\"fg\"]=\"blue\"\n",
    "    \n",
    "    \n",
    "\n",
    "btn=Button(root,command =btn_click,text=\"Show expected salary\",width=\"20\",height=\"1\",font=\"30\",bg=\"blue\",fg=\"white\")\n",
    "lb_title=Label(root,text=\"Predict your salary\",width=\"25\",height=\"1\",font=('Times New Roman', 25, 'bold'),fg=\"blue\")\n",
    "lb_salary=Label(root,text=\"Click this button to show your salary\",width=\"50\",height=\"2\",font=\"50\",bg=\"white\",fg=\"blue\")\n",
    "txt_age=Entry(root,width=\"35\",font=\"30\",bg=\"white\",fg=\"blue\")\n",
    "txt_gender=Entry(root,width=\"35\",font=\"30\",bg=\"white\",fg=\"blue\")\n",
    "txt_level=Entry(root,width=\"35\",font=\"30\",bg=\"white\",fg=\"blue\")\n",
    "txt_jobtitle=Entry(root,width=\"35\",font=\"30\",bg=\"white\",fg=\"blue\")\n",
    "txt_experience=Entry(root,width=\"35\",font=\"30\",bg=\"white\",fg=\"blue\")\n",
    "\n",
    "lb_age=Label(root,text=\"Age:\",width=\"4\",height=\"1\",font=\"60\",fg=\"blue\")\n",
    "lb_gender=Label(root,text=\"Gender:\",width=\"6\",height=\"1\",font=\"60\",fg=\"blue\")\n",
    "lb_level=Label(root,text=\"Educational Level:\",width=\"14\",height=\"1\",font=\"60\",fg=\"blue\")\n",
    "lb_jobtitle=Label(root,text=\"Job Title:\",width=\"7\",height=\"1\",font=\"60\",fg=\"blue\")\n",
    "lb_experience=Label(root,text=\"Years of Experience:\",width=\"16\",height=\"1\",font=\"60\",fg=\"blue\")\n",
    "\n",
    "photo=PhotoImage(file=\"C:\\\\Users\\\\mohamed gallow\\\\Desktop\\\\3.png\")\n",
    "lb_img1=Label(root,image=photo,width=\"100\",height=\"600\")\n",
    "photo2=PhotoImage(file=\"C:\\\\Users\\\\mohamed gallow\\\\Desktop\\\\4.png\")\n",
    "lb_img2=Label(root,image=photo2,width=\"100\",height=\"600\")\n",
    "\n",
    "lb_gender2=Label(root,text=\"enter 0 for male/1 for female\",font=('Times New Roman', 10, 'bold'),width=\"22\",height=\"1\",fg=\"gray\")\n",
    "lb_level2=Label(root,text=\"enter 1 for bachelor/2 for master/3 for phd\",font=('Times New Roman', 10, 'bold'),width=\"35\",height=\"1\",fg=\"gray\")\n",
    "\n",
    "\n",
    "lb_title.place(x=300,y=0)\n",
    "txt_age.place(x=120,y=100)\n",
    "txt_gender.place(x=596,y=100)\n",
    "txt_level.place(x=120,y=250)\n",
    "txt_jobtitle.place(x=596,y=250)\n",
    "txt_experience.place(x=350,y=400)\n",
    "\n",
    "lb_age.place(x=118,y=70)\n",
    "lb_gender.place(x=596,y=70)\n",
    "lb_level.place(x=120,y=220)\n",
    "lb_jobtitle.place(x=596,y=220)\n",
    "lb_experience.place(x=350,y=370)\n",
    "\n",
    "lb_img1.place(x=0,y=0)\n",
    "lb_img2.place(x=1000,y=0)\n",
    "\n",
    "lb_gender2.place(x=600,y=130)\n",
    "lb_level2.place(x=113,y=280)\n",
    "\n",
    "btn.place(x=430,y=550)\n",
    "lb_salary.place(x=260,y=490)\n",
    "\n",
    "root.mainloop()"
   ]
  },
  {
   "cell_type": "code",
   "execution_count": null,
   "metadata": {},
   "outputs": [],
   "source": []
  },
  {
   "cell_type": "code",
   "execution_count": null,
   "metadata": {},
   "outputs": [],
   "source": []
  },
  {
   "cell_type": "code",
   "execution_count": null,
   "metadata": {},
   "outputs": [],
   "source": []
  }
 ],
 "metadata": {
  "kernelspec": {
   "display_name": "Python 3 (ipykernel)",
   "language": "python",
   "name": "python3"
  },
  "language_info": {
   "codemirror_mode": {
    "name": "ipython",
    "version": 3
   },
   "file_extension": ".py",
   "mimetype": "text/x-python",
   "name": "python",
   "nbconvert_exporter": "python",
   "pygments_lexer": "ipython3",
   "version": "3.11.5"
  }
 },
 "nbformat": 4,
 "nbformat_minor": 2
}
